{
 "cells": [
  {
   "cell_type": "code",
   "execution_count": 1,
   "metadata": {},
   "outputs": [],
   "source": [
    "from random import seed\n",
    "from random import random\n",
    "from math import exp\n",
    "from scipy.io import loadmat\n",
    "import numpy as np\n",
    "import matplotlib.pyplot as plt\n",
    "import pandas as pd"
   ]
  },
  {
   "cell_type": "code",
   "execution_count": 2,
   "metadata": {},
   "outputs": [],
   "source": [
    "test_data_x = loadmat('ion.test')['Xtest'].T\n",
    "test_data_y = loadmat('ion.test')['ytest']\n",
    "\n",
    "train_data_x = loadmat('ion.trin')['Xtrain'].T\n",
    "train_data_y = loadmat('ion.trin')['ytrain']"
   ]
  },
  {
   "cell_type": "code",
   "execution_count": 3,
   "metadata": {},
   "outputs": [],
   "source": [
    "#Converting y's to one dimentional arrays\n",
    "train_y = []\n",
    "for j in range(len(train_data_y)):\n",
    "    train_y.append(train_data_y[j][0])\n",
    "    \n",
    "test_y = []\n",
    "for j in range(len(test_data_y)):\n",
    "    test_y.append(test_data_y[j][0])"
   ]
  },
  {
   "cell_type": "code",
   "execution_count": 19,
   "metadata": {},
   "outputs": [],
   "source": [
    "# build a neural network with one hidden layer and initialize it\n",
    "def set_NN(x_n, y_n , neuron_n):\n",
    "    NN = list()\n",
    "    o_layer = [{'w':[random() for c in range(neuron_n + 1)]} for l in range(y_n)]\n",
    "    h_layer = [{'w':[random() for c in range(x_n + 1)]} for l in range(neuron_n)]\n",
    "    NN.append(h_layer)\n",
    "    NN.append(o_layer)\n",
    "    return NN"
   ]
  },
  {
   "cell_type": "code",
   "execution_count": 67,
   "metadata": {},
   "outputs": [],
   "source": [
    "# Activaion function1 - sigmiod\n",
    "def sigmoid(x):\n",
    "    return (1.0 / (1.0 + np.exp(-x)))"
   ]
  },
  {
   "cell_type": "code",
   "execution_count": 20,
   "metadata": {},
   "outputs": [],
   "source": [
    "'''\n",
    "First step of training: forward propagation on each entry of input\n",
    "and training all layers of NN\n",
    "'''\n",
    "\n",
    "def forward_propg(nn, x):\n",
    "    inputl = x\n",
    "    # For each layer of NN\n",
    "    for layer in nn:\n",
    "        outputl = []\n",
    "        # For each Neuron of our layer\n",
    "        for n in layer:\n",
    "            # get the weights of the neuron\n",
    "            beta = n['w']\n",
    "            # last beta in the b0\n",
    "            y_nrn = beta[-1]\n",
    "            # Activate the neuron and calculate y\n",
    "            for i in range(len(beta)-1):\n",
    "                y_nrn += beta[i]*inputl[i]\n",
    "            n['y'] =sigmoid(y_nrn)\n",
    "            #Keep track of outputs and use them as the outputs for the next l\n",
    "            outputl.append(n['y'])\n",
    "        inputl = outputl\n",
    "    return outputl"
   ]
  },
  {
   "cell_type": "code",
   "execution_count": 68,
   "metadata": {},
   "outputs": [],
   "source": [
    "'''\n",
    "Finding delta using expected value for y \n",
    "'''\n",
    "def derivatie_sigmoid(x):\n",
    "    return (np.exp(-x) / (1.0 + np.exp(-x))**2)\n",
    "\n",
    "def back_propg_delta(nn, y):\n",
    "    # updating delta starts from n-1 to 0\n",
    "    num_layers = len(nn)\n",
    "    \n",
    "    for i in range(num_layers-1, -1, -1):\n",
    "        layer = nn[i]\n",
    "        len_layer = len(layer)\n",
    "        \n",
    "        # calculatig delta for last layer\n",
    "        if i == (num_layers -1):\n",
    "            for n in range(len_layer):\n",
    "                nrn = layer[n]\n",
    "                delta = -2*( y[n] - nrn['y'])\n",
    "                nrn['delta'] = delta\n",
    "        else:\n",
    "            # calculatig delta for hidden layers\n",
    "            for n in range(len_layer):\n",
    "                err_sum = 0\n",
    "                for nrn in nn[i+1]:\n",
    "                    err_sum += nrn['w'][n]*nrn['delta']\n",
    "                delta = derivatie_sigmoid(layer[n]['y'])*err_sum\n",
    "                layer[n]['delta'] = delta    "
   ]
  },
  {
   "cell_type": "code",
   "execution_count": 41,
   "metadata": {},
   "outputs": [],
   "source": [
    "def change_weight(nn, x, lrn_rate, w_decay):\n",
    "    for l in range(len(nn)):\n",
    "        if l == 0:\n",
    "            z = x\n",
    "        else:\n",
    "            z = []\n",
    "            for nrn in nn[l-1]:\n",
    "                z.append(nrn['y'])\n",
    "        for n in nn[l]:\n",
    "            for j in range(len(z)):\n",
    "                u = n['w'][j]\n",
    "                #updating the weight using weight decay\n",
    "                n['w'][j] = u - lrn_rate*n['delta']*z[j] - w_decay*lrn_rate*u"
   ]
  },
  {
   "cell_type": "code",
   "execution_count": 181,
   "metadata": {},
   "outputs": [],
   "source": [
    "def train_NN(nn, data, exp_y, lrn_rate, w_decay, epoches, num_classes):\n",
    "    error = 0\n",
    "    for i in range(epoches):\n",
    "        error = 0\n",
    "        for j in range(len(data)):\n",
    "            yi = forward_propg(nn, data[j])\n",
    "            y_onehat = [0]*num_classes\n",
    "            y=[0]*num_classes\n",
    "            y[yi.index(max(yi))] =1\n",
    "            y_onehat[exp_y[j]] = 1\n",
    "            error += sum([(y_onehat[i]-y[i])**2 for i in range(len(y_onehat))])/2\n",
    "            back_propg_delta(nn, y_onehat)\n",
    "            change_weight(nn, data[j], lrn_rate, w_decay)\n",
    "    return (error/(len(data)))   "
   ]
  },
  {
   "cell_type": "code",
   "execution_count": 237,
   "metadata": {},
   "outputs": [
    {
     "name": "stdout",
     "output_type": "stream",
     "text": [
      "[{'w': [2.3347989002766845, -31.897944347177322, -17.592269443814395, -32.601392479487764, -21.552651928451652, -8.501345725610813, -3.132787145090854, -14.893082346335147, -18.245160010803538, 15.846506115851973, -17.379728602707313, 5.945848265826949, -16.44717365663311, -5.32752888983668, -11.79659062903252, -4.338470028605721, -22.177380141773902, 8.083145612352663, 0.30680197137081283, 3.475966811667075, 33.872698802995245, 0.45581576711253724, -0.30257205325744657, -6.606148508717639, -14.859071692792904, 33.20653561395201, 12.099597740938417, 8.528198384337832, -0.7284287098007587, -12.876484507651098, 5.109311923562114, -2.0501415185739686, 14.056376576391516, 0.5875806061435594], 'y': 5.576842040444082e-16, 'delta': 0.1304679468917164}, {'w': [-1.8464462246811402, -12.787109421047749, -4.540374822894297, -11.087562470083004, -5.686072065636289, -4.332706815088411, 1.1855672549826537, -7.004547264551677, -5.993853168184705, 4.648812272437713, -5.515443175183933, 1.0854827084792167, -5.138240657306193, -1.7347032610576951, -0.3971281529012735, -1.7071815874474836, -4.74560499197049, 1.786513659231788, 1.8748285201751762, 0.4056765085022368, 10.218194790990088, 0.6101147157309106, -1.1547598717326562, -3.436851307001304, -3.124313053709818, 7.072870578758066, 4.599429677242946, 0.525502167849788, 0.5314901983116987, -6.155617753936522, 3.3701963657036393, -2.933785440842327, 6.449924975734412, 0.9524673882682695], 'y': 3.3159845738693905e-14, 'delta': 0.06821980523254585}, {'w': [-2.7200155962596275, -2.2561884040049835, 1.2740431314423428, -1.3628633830301202, 2.147202837010145, -1.5298156303267465, 1.8757895997292617, -2.17736245778212, 0.2213436422514506, 0.11104819294891718, 1.0356144460347863, -0.7986085620484962, 0.5404525775596554, -0.19840789766971667, 2.7767717967532253, 0.09751205094325988, 1.5058148213946159, -1.7058516513716813, 1.7326210172320227, 0.1677795307549204, -0.10652650970331665, 0.49882931520461954, -1.8285238251800002, -1.022535658063174, 1.211368353625708, -2.8257517476643037, -0.6450963106606081, -1.5889573000076735, 0.2623378954817745, -1.2825625479007126, 1.2905947364615138, -1.2634985511019707, 1.6239664375310583, 0.8164373705606909], 'y': 6.622533932951424e-08, 'delta': -0.002844749966227351}, {'w': [-2.0910412555489217, -30.411087282240825, -17.97975181944386, -34.22794273056223, -21.227119860375094, -10.474133851977184, -4.513087821176431, -15.27454867461275, -17.74904180906837, 13.504411531942404, -15.130677750720183, 3.5933980702857755, -15.136362571401422, -6.72150063478741, -15.082370535386096, -5.977482113298626, -20.614873325324925, 5.34381541362433, 0.8483890502864359, 0.5410103211272094, 33.98260596557717, -2.6192024697243355, 0.20792941123470915, -6.746722570663106, -13.078987765170435, 32.42528865155681, 11.549215229379609, 8.29639650723689, -1.792218377301556, -12.226697888236645, 3.5983784588415344, -2.766170052598848, 10.64275760799656, 0.7188354727617898], 'y': 5.720243825177475e-25, 'delta': 0.08184163415294335}, {'w': [-5.2486805757738795, 12.242358212549314, 10.034453610841052, 16.762518010914967, 12.468577991330255, 2.923316160231259, 1.6849838188515616, 5.4708036263971485, 5.981727889668658, -5.9705167589631145, 8.68831977628323, -1.5930794893033795, 8.959785543327014, 5.895574994151364, 10.00137063744965, 2.716072703608534, 13.033905943386808, -5.128664286604227, 3.811869147988228, 2.221965752829866, -19.338506826682337, 4.941498380212001, -1.7162624343795465, 3.0558650103569778, 11.369186257992625, -20.7934198376056, -6.486729681627048, -6.913271077245969, 2.0911590733597887, 4.550196634466908, -0.6803060783480149, 1.5327739733315142, -6.5674914046045645, 0.9737752361596916], 'y': 0.9999986020007228, 'delta': -0.061541504489094984}, {'w': [-3.250735807110094, -1.5778015430855554, 2.925147340660442, 0.9879815458588639, 2.6683905689298797, -0.40491692645090777, 2.5976927777081658, -2.132981369540444, 0.10970873371989424, -1.1920073809752014, 0.7097078053281601, -1.0705215200304374, 0.8968827516261653, 1.1268499778431262, 6.513784088398332, -1.0063179019605206, 2.637078410626001, -1.620022459998622, 2.8715721615966037, 0.4406757838920262, -3.0772617475574, 0.37462391136338086, -2.4921936439885455, -0.9288044429267833, 2.455956940743193, -6.492169732405359, -0.31261104307745896, -3.084943082377454, 0.6112343021466236, -1.4039383745310319, 0.7772916872721571, -1.5101009389079227, 1.4092989259290734, 0.16969414179438758], 'y': 3.596884949111858e-09, 'delta': 0.02211376134334059}, {'w': [-2.604834331005053, -27.835686660567752, -13.596738136257912, -28.61754775094507, -15.578728458615537, -9.592037975644867, -2.01841411107028, -14.307489161821549, -14.02111399084152, 11.57308406942248, -12.207813547879217, 3.095702408556523, -11.982880953477238, -5.961546614702261, -9.518891035175738, -5.3802986350707105, -16.217769833398567, 4.150927541294257, 2.0788212137525193, 1.23048719998558, 28.32204877402874, -1.373481045909877, -0.07878874186191162, -6.422130701872932, -9.601460783235838, 24.5552540062898, 10.146330665825802, 5.242455353612139, 0.10031993424529621, -11.588344747409982, 5.618606440508523, -3.3074753647650352, 11.299776665307006, 0.7870146635603288], 'y': 1.2741055264988967e-25, 'delta': 0.08144526860298762}, {'w': [0.20010581478038394, -22.13929596007823, -10.277492874469292, -21.638255736082225, -13.184516867854306, -5.70874088459627, -1.5501207504765602, -11.184271776849094, -10.617435751498657, 9.963279875079543, -11.39480022763887, 3.1521540175088747, -10.506721336775186, -2.7552259007152475, -5.941362729176938, -2.3795486524856972, -12.839094248600324, 5.157809473012348, 1.39306568353086, 1.932162263669466, 21.077835989112664, 0.8110834867647131, -2.0288399196389832, -5.2865942252670415, -8.496122076920459, 19.16517580883402, 8.268458461479632, 3.4774631865235395, -0.3515722548604297, -9.157134909727159, 3.7058361414898275, -2.974146219079339, 10.471878982018472, 0.9698132768381156], 'y': 3.4189340816484856e-15, 'delta': 0.08355707045200879}]\n",
      "[{'w': [-7.98694955675543, -3.83932606058947, 0.14544637481424139, -4.919185189291602, 3.888690172411033, -1.2151710359967343, -4.491343480972422, -4.862387810904698, 0.0938595867742349], 'y': 0.981636781506552, 'delta': -0.03672643698689604}, {'w': [6.710060068103006, 3.8719134732184766, -0.17725796761486548, 4.3072706547758255, -5.004308220612917, 1.286761974076965, 4.722066662104257, 4.569980829835425, 0.9452706955539223], 'y': 0.0170296231057273, 'delta': 0.0340592462114546}]\n"
     ]
    }
   ],
   "source": [
    "seed(1)\n",
    "data = train_data_x.tolist()\n",
    "n_in = len(data[0]) \n",
    "n_out = 2\n",
    "nn = set_NN(n_in, n_out, 8)\n",
    "train_NN(nn, data, train_y, 0.1, 0, 50, n_out)\n",
    "for l in nn:\n",
    "    print(l)"
   ]
  },
  {
   "cell_type": "code",
   "execution_count": 238,
   "metadata": {},
   "outputs": [],
   "source": [
    "test_nn = nn\n",
    "for l in test_nn:\n",
    "    for n in l:\n",
    "        del n['y']\n",
    "        del n['delta']"
   ]
  },
  {
   "cell_type": "code",
   "execution_count": 239,
   "metadata": {},
   "outputs": [
    {
     "name": "stdout",
     "output_type": "stream",
     "text": [
      "y1=1, y0=24 , yh1=63, yh0=112\n"
     ]
    }
   ],
   "source": [
    "count=0\n",
    "y1=0\n",
    "y0=0\n",
    "yh0=0\n",
    "yh1=0\n",
    "\n",
    "data_test = test_data_x.tolist()\n",
    "for i in range(len(data_test)):\n",
    "    yi = forward_propg(test_nn, data_test[i])\n",
    "    y_hat = yi.index(max(yi))\n",
    "    if (test_y[i] == 0):\n",
    "        yh0 = 1+ yh0\n",
    "    if (test_y[i] == 1):\n",
    "        yh1 = 1+ yh1\n",
    "    if(test_y[i] != y_hat):\n",
    "        if (test_y[i] == 1):\n",
    "            y0 = 1 + y0\n",
    "        else:\n",
    "            y1 = 1+ y1  \n",
    "print('y1=%d, y0=%d , yh1=%d, yh0=%d' % (y1, y0, yh1, yh0)) \n"
   ]
  },
  {
   "cell_type": "code",
   "execution_count": 240,
   "metadata": {},
   "outputs": [],
   "source": [
    "x =[]\n",
    "etest = []\n",
    "etrain = []\n",
    "for epoch in range(1, 550, 50):\n",
    "    nns= list()\n",
    "    x.append(epoch)\n",
    "    nns = set_NN(n_in, n_out, 6)\n",
    "    train_err = train_NN(nns, data, train_y, 0.1, 0.02, epoch, n_out)\n",
    "    etrain.append(train_err)\n",
    "    for l in nns:\n",
    "        for n in l:\n",
    "            del n['y']\n",
    "            del n['delta']\n",
    "    for i in range(len(data_test)):\n",
    "        yi = forward_propg(nns, data_test[i])\n",
    "        y_hat = yi.index(max(yi))\n",
    "        if (test_y[i] == 0):\n",
    "            yh0 = 1+ yh0\n",
    "        if (test_y[i] == 1):\n",
    "            yh1 = 1+ yh1\n",
    "        if(test_y[i] != y_hat):\n",
    "            if (test_y[i] == 1):\n",
    "                y0 = 1 + y0\n",
    "            else:\n",
    "                y1 = 1+ y1 \n",
    "    test_error = (y0+y1)/(yh0+yh1)\n",
    "    etest.append(test_error)\n",
    "    \n",
    "df1=pd.DataFrame({'x': x, 'ytest': etest, 'ytrain': etrain })\n"
   ]
  },
  {
   "cell_type": "code",
   "execution_count": 381,
   "metadata": {},
   "outputs": [
    {
     "data": {
      "image/png": "[encoded data removed]",
      "text/plain": [
       "<Figure size 432x288 with 1 Axes>"
      ]
     },
     "metadata": {},
     "output_type": "display_data"
    }
   ],
   "source": [
    "plt.plot('x', 'ytest', data=df1, marker='', color='red', linewidth=1)\n",
    "plt.plot('x', 'ytrain', data=df1, marker='', color='blue', linewidth=1)\n",
    "plt.title(\"epoch vs error rate, w_decay = 0.02\")\n",
    "plt.show()"
   ]
  },
  {
   "cell_type": "code",
   "execution_count": 242,
   "metadata": {},
   "outputs": [],
   "source": [
    "x =[]\n",
    "etest = []\n",
    "etrain = []\n",
    "for epoch in range(1, 550, 50):\n",
    "    nns= list()\n",
    "    x.append(epoch)\n",
    "    nns = set_NN(n_in, n_out, 6)\n",
    "    train_err = train_NN(nns, data, train_y, 0.1, 0.002, epoch, n_out)\n",
    "    etrain.append(train_err)\n",
    "    for l in nns:\n",
    "        for n in l:\n",
    "            del n['y']\n",
    "            del n['delta']\n",
    "    for i in range(len(data_test)):\n",
    "        yi = forward_propg(nns, data_test[i])\n",
    "        y_hat = yi.index(max(yi))\n",
    "        if (test_y[i] == 0):\n",
    "            yh0 = 1+ yh0\n",
    "        if (test_y[i] == 1):\n",
    "            yh1 = 1+ yh1\n",
    "        if(test_y[i] != y_hat):\n",
    "            if (test_y[i] == 1):\n",
    "                y0 = 1 + y0\n",
    "            else:\n",
    "                y1 = 1+ y1 \n",
    "    test_error = (y0+y1)/(yh0+yh1)\n",
    "    etest.append(test_error)\n",
    "    \n",
    "df2=pd.DataFrame({'x': x, 'ytest': etest, 'ytrain': etrain })"
   ]
  },
  {
   "cell_type": "code",
   "execution_count": 392,
   "metadata": {},
   "outputs": [
    {
     "data": {
      "image/png": "[encoded data removed]",
      "text/plain": [
       "<Figure size 432x288 with 1 Axes>"
      ]
     },
     "metadata": {},
     "output_type": "display_data"
    }
   ],
   "source": [
    "plt.plot('x', 'ytest', data=df2, marker='', color='red', linewidth=1)\n",
    "plt.plot('x', 'ytrain', data=df2, marker='', color='blue', linewidth=1)\n",
    "plt.title(\"epoch vs error rate, w_decay = 0.002\")\n",
    "plt.show()"
   ]
  },
  {
   "cell_type": "code",
   "execution_count": 244,
   "metadata": {},
   "outputs": [],
   "source": [
    "x =[]\n",
    "etest = []\n",
    "etrain = []\n",
    "for epoch in range(1, 550, 50):\n",
    "    nns= list()\n",
    "    x.append(epoch)\n",
    "    nns = set_NN(n_in, n_out, 6)\n",
    "    train_err = train_NN(nns, data, train_y, 0.1, 0.05, epoch, n_out)\n",
    "    etrain.append(train_err)\n",
    "    for l in nns:\n",
    "        for n in l:\n",
    "            del n['y']\n",
    "            del n['delta']\n",
    "    for i in range(len(data_test)):\n",
    "        yi = forward_propg(nns, data_test[i])\n",
    "        y_hat = yi.index(max(yi))\n",
    "        if (test_y[i] == 0):\n",
    "            yh0 = 1+ yh0\n",
    "        if (test_y[i] == 1):\n",
    "            yh1 = 1+ yh1\n",
    "        if(test_y[i] != y_hat):\n",
    "            if (test_y[i] == 1):\n",
    "                y0 = 1 + y0\n",
    "            else:\n",
    "                y1 = 1+ y1 \n",
    "    test_error = (y0+y1)/(yh0+yh1)\n",
    "    etest.append(test_error)\n",
    "    \n",
    "df3=pd.DataFrame({'x': x, 'ytest': etest, 'ytrain': etrain })"
   ]
  },
  {
   "cell_type": "code",
   "execution_count": 428,
   "metadata": {},
   "outputs": [
    {
     "data": {
      "image/png": "[encoded data removed]",
      "text/plain": [
       "<Figure size 432x288 with 1 Axes>"
      ]
     },
     "metadata": {},
     "output_type": "display_data"
    }
   ],
   "source": [
    "df3\n",
    "plt.plot('x', 'ytest', data=df3, marker='', color='red', linewidth=1)\n",
    "plt.plot('x', 'ytrain', data=df3, marker='', color='blue', linewidth=1)\n",
    "plt.title(\"epoch vs error rate, w_decay = 0.05\")\n",
    "plt.show()"
   ]
  },
  {
   "cell_type": "code",
   "execution_count": 246,
   "metadata": {},
   "outputs": [],
   "source": [
    "x =[]\n",
    "etest = []\n",
    "etrain = []\n",
    "for epoch in range(1, 550, 50):\n",
    "    nns= list()\n",
    "    x.append(epoch)\n",
    "    nns = set_NN(n_in, n_out, 6)\n",
    "    train_err = train_NN(nns, data, train_y, 0.1, 0.0005, epoch, n_out)\n",
    "    etrain.append(train_err)\n",
    "    for l in nns:\n",
    "        for n in l:\n",
    "            del n['y']\n",
    "            del n['delta']\n",
    "    for i in range(len(data_test)):\n",
    "        yi = forward_propg(nns, data_test[i])\n",
    "        y_hat = yi.index(max(yi))\n",
    "        if (test_y[i] == 0):\n",
    "            yh0 = 1+ yh0\n",
    "        if (test_y[i] == 1):\n",
    "            yh1 = 1+ yh1\n",
    "        if(test_y[i] != y_hat):\n",
    "            if (test_y[i] == 1):\n",
    "                y0 = 1 + y0\n",
    "            else:\n",
    "                y1 = 1+ y1 \n",
    "    test_error = (y0+y1)/(yh0+yh1)\n",
    "    etest.append(test_error)\n",
    "    \n",
    "df4=pd.DataFrame({'x': x, 'ytest': etest, 'ytrain': etrain })"
   ]
  },
  {
   "cell_type": "code",
   "execution_count": 435,
   "metadata": {},
   "outputs": [
    {
     "data": {
      "image/png": "[encoded data removed]",
      "text/plain": [
       "<Figure size 432x288 with 1 Axes>"
      ]
     },
     "metadata": {},
     "output_type": "display_data"
    }
   ],
   "source": [
    "df4\n",
    "plt.plot('x', 'ytest', data=df4, marker='', color='red', linewidth=1)\n",
    "plt.plot('x', 'ytrain', data=df4, marker='', color='blue', linewidth=1)\n",
    "plt.title(\"epoch vs error rate, w_decay = 0.0005\")\n",
    "plt.show()"
   ]
  },
  {
   "cell_type": "code",
   "execution_count": 436,
   "metadata": {},
   "outputs": [],
   "source": [
    "x =[]\n",
    "etest = []\n",
    "etrain = []\n",
    "for n in range(1, 20, 1):\n",
    "    nns= list()\n",
    "    x.append(n)\n",
    "    nns = set_NN(n_in, n_out, n)\n",
    "    train_err = train_NN(nns, data, train_y, 0.1, 0, 50, n_out)\n",
    "    etrain.append(train_err)\n",
    "    for l in nns:\n",
    "        for n in l:\n",
    "            del n['y']\n",
    "            del n['delta']\n",
    "    for i in range(len(data_test)):\n",
    "        yi = forward_propg(nns, data_test[i])\n",
    "        y_hat = yi.index(max(yi))\n",
    "        if (test_y[i] == 0):\n",
    "            yh0 = 1+ yh0\n",
    "        if (test_y[i] == 1):\n",
    "            yh1 = 1+ yh1\n",
    "        if(test_y[i] != y_hat):\n",
    "            if (test_y[i] == 1):\n",
    "                y0 = 1 + y0\n",
    "            else:\n",
    "                y1 = 1+ y1 \n",
    "    test_error = (y0+y1)/(yh0+yh1)\n",
    "    etest.append(test_error)\n",
    "    \n",
    "df5=pd.DataFrame({'x': x, 'ytest': etest, 'ytrain': etrain })"
   ]
  },
  {
   "cell_type": "code",
   "execution_count": 511,
   "metadata": {},
   "outputs": [
    {
     "data": {
      "image/png": "[encoded data removed]",
      "text/plain": [
       "<Figure size 432x288 with 1 Axes>"
      ]
     },
     "metadata": {},
     "output_type": "display_data"
    }
   ],
   "source": [
    "plt.plot('x', 'ytest', data=df5, marker='', color='red', linewidth=1)\n",
    "plt.plot('x', 'ytrain', data=df5, marker='', color='blue', linewidth=1)\n",
    "plt.xticks(np.arange(1,20,1))\n",
    "plt.title(\"epoch vs error rate, w_decay = 0\")\n",
    "plt.show()"
   ]
  }
 ],
 "metadata": {
  "kernelspec": {
   "display_name": "Python 3",
   "language": "python",
   "name": "python3"
  },
  "language_info": {
   "codemirror_mode": {
    "name": "ipython",
    "version": 3
   },
   "file_extension": ".py",
   "mimetype": "text/x-python",
   "name": "python",
   "nbconvert_exporter": "python",
   "pygments_lexer": "ipython3",
   "version": "3.6.5"
  }
 },
 "nbformat": 4,
 "nbformat_minor": 2
}
